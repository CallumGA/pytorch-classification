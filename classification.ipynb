{
 "cells": [
  {
   "cell_type": "markdown",
   "id": "20038b2f51dad6b2",
   "metadata": {},
   "source": [
    "# Pytorch Neural Network - Classification"
   ]
  },
  {
   "cell_type": "markdown",
   "id": "bbfbd48a96e6442",
   "metadata": {},
   "source": [
    "## 1. Data Preprocess\n",
    "We must prepare the data for the neural network."
   ]
  },
  {
   "cell_type": "code",
   "id": "4320a0b505050e97",
   "metadata": {
    "ExecuteTime": {
     "end_time": "2025-08-07T20:13:31.454661Z",
     "start_time": "2025-08-07T20:13:29.510079Z"
    }
   },
   "source": [
    "import torch\n",
    "import torch.nn as nn\n",
    "import torch.optim as optim\n",
    "from sklearn.datasets import load_breast_cancer\n",
    "from sklearn.preprocessing import StandardScaler\n",
    "from sklearn.model_selection import train_test_split\n",
    "import numpy as np\n",
    "import matplotlib.pyplot as plt\n",
    "from sklearn.metrics import accuracy_score"
   ],
   "outputs": [],
   "execution_count": 1
  },
  {
   "cell_type": "markdown",
   "id": "54cbe00c15603c7f",
   "metadata": {},
   "source": [
    "Load scikit-learn breast cancer data set.\n",
    "\n",
    "Then we load the features into a 2D array (matrix X - all features) and load the target into a vector (vector Y - classification)\n",
    "\n",
    "Malignant - 1\n",
    "Benign = 0"
   ]
  },
  {
   "cell_type": "code",
   "id": "f7a88e8e703a0cc1",
   "metadata": {
    "ExecuteTime": {
     "end_time": "2025-08-07T20:13:31.472929Z",
     "start_time": "2025-08-07T20:13:31.465428Z"
    }
   },
   "source": [
    "data = load_breast_cancer()\n",
    "X = data.data.astype(np.float32)\n",
    "y = data.target.astype(np.float32).reshape(-1, 1)"
   ],
   "outputs": [],
   "execution_count": 2
  },
  {
   "cell_type": "markdown",
   "id": "df034a83e561e278",
   "metadata": {},
   "source": [
    "Normalize the input features. We want the *mean 0* and the *standard deviation 1*. All features are centered and scaled evenly. Neural networks learn faster and better when input features are on a similar scale. Without normalization, some features can dominate others. We only normalize the input features."
   ]
  },
  {
   "cell_type": "code",
   "id": "3701010221990ec5",
   "metadata": {
    "ExecuteTime": {
     "end_time": "2025-08-07T20:13:31.542876Z",
     "start_time": "2025-08-07T20:13:31.539956Z"
    }
   },
   "source": [
    "scaler = StandardScaler()\n",
    "X = scaler.fit_transform(X)"
   ],
   "outputs": [],
   "execution_count": 3
  },
  {
   "cell_type": "markdown",
   "id": "15babd7eb87c50c1",
   "metadata": {},
   "source": [
    "We must split the data into training and validation. This ensures we have a way to test our neural network without giving the model access to \"answers\" during training.\n",
    "\n",
    "- X_train is our input feature training split\n",
    "- y_train is our target for training split (the answers)\n",
    "- X_val is the input feature for validation\n",
    "- y_val is our target for validation\n"
   ]
  },
  {
   "cell_type": "code",
   "id": "56d1c660b1dcedb0",
   "metadata": {
    "ExecuteTime": {
     "end_time": "2025-08-07T20:13:31.556285Z",
     "start_time": "2025-08-07T20:13:31.552518Z"
    }
   },
   "source": "X_train, X_val, y_train, y_val = train_test_split(X, y, test_size=0.2, random_state=42)",
   "outputs": [],
   "execution_count": 4
  },
  {
   "cell_type": "markdown",
   "id": "e4eaa0b778c5ca6f",
   "metadata": {},
   "source": [
    "Convert all the data, both training and validation sets into pytorch tensors, so the neural network can work with the data.\n"
   ]
  },
  {
   "cell_type": "code",
   "id": "4f377a53d59c6a78",
   "metadata": {
    "ExecuteTime": {
     "end_time": "2025-08-07T20:13:31.666243Z",
     "start_time": "2025-08-07T20:13:31.660399Z"
    }
   },
   "source": [
    "X_train = torch.tensor(X_train)\n",
    "y_train = torch.tensor(y_train)\n",
    "X_val   = torch.tensor(X_val)\n",
    "y_val   = torch.tensor(y_val)\n",
    "print(X_train.shape)\n",
    "print(y_train.shape)"
   ],
   "outputs": [
    {
     "name": "stdout",
     "output_type": "stream",
     "text": [
      "torch.Size([455, 30])\n",
      "torch.Size([455, 1])\n"
     ]
    }
   ],
   "execution_count": 5
  },
  {
   "cell_type": "markdown",
   "id": "33673fc9f380f528",
   "metadata": {},
   "source": [
    "## 2. Neural Network Architecture\n",
    "Design of the neural network ie; layers, forward pass, loss-function, and optimizer."
   ]
  },
  {
   "cell_type": "markdown",
   "id": "1e9264547ac55e90",
   "metadata": {},
   "source": [
    "Define the neural network model (input layers and hidden layers). This is the \"forward pass\".\n",
    "- build a sequential network\n",
    "- we use linear layers that performs $z = W \\cdot x + b$\n",
    "- ReLU is our activation function to introduce non-linearity after each layer, allows the network to learn complex patterns and zeros out negatives (Like sigmoid but a different activation function).\n",
    "- For classification, we also apply the activation function (sigmoid) after the final output layer which is part of the loss function."
   ]
  },
  {
   "cell_type": "code",
   "id": "8dc3811af52fa797",
   "metadata": {
    "ExecuteTime": {
     "end_time": "2025-08-07T20:13:31.745355Z",
     "start_time": "2025-08-07T20:13:31.742159Z"
    }
   },
   "source": [
    "model = nn.Sequential(\n",
    "    nn.Linear(30, 64),      # Input layer → Hidden layer 1 (64 neurons created from the 11 input features)\n",
    "    nn.ReLU(),\n",
    "    nn.Linear(64, 32),      # Hidden layer 1 → Hidden layer 2 (64 inputs from the previous layers outputs, outputs 32 neurons)\n",
    "    nn.ReLU(),\n",
    "    nn.Linear(32, 1)        # Hidden layer 2 → Output (1 value: wine quality)\n",
    ")"
   ],
   "outputs": [],
   "execution_count": 6
  },
  {
   "cell_type": "markdown",
   "id": "fc2eb7b45f8dc24f",
   "metadata": {},
   "source": [
    "The loss function (BCE) is applied right after we get the final output from the network’s forward pass and right before backpropagation. It measures how far off the prediction is from the actual target. For classification we use **BCEWithLogitsLoss()** which includes sigmoid activation.\n",
    "\n",
    "The optimizer is what updates the weights and biases based on the gradient of the loss. It uses the learning rate to decide how much to adjust the weights in response to the gradients."
   ]
  },
  {
   "cell_type": "code",
   "id": "695b18097a791c24",
   "metadata": {
    "ExecuteTime": {
     "end_time": "2025-08-07T20:13:32.401072Z",
     "start_time": "2025-08-07T20:13:31.805581Z"
    }
   },
   "source": [
    "loss_function = nn.BCEWithLogitsLoss()\n",
    "optimizer = optim.Adam(model.parameters(), lr=0.01)"
   ],
   "outputs": [],
   "execution_count": 7
  },
  {
   "cell_type": "markdown",
   "id": "9a861b2f578de60e",
   "metadata": {},
   "source": [
    "## 3. Training Loop\n",
    "Actually apply the forward pass, loss function, optimizer and the back propagation."
   ]
  },
  {
   "cell_type": "markdown",
   "id": "38cff561337df689",
   "metadata": {},
   "source": [
    "Training loop explanation in order:\n",
    "\n",
    "- **epochs = 100** - 100 epochs or 100 full iterations of training\n",
    "- **model.train()** - tells pytorch the model is in training mode\n",
    "- **optimizer.zero_grad()** - we clear the 0's that were stored from the previous back propagation\n",
    "- **output = model(X_train)** - actually pass in our training data and initiate the forward pass\n",
    "- **loss = loss_function(output, y_train)** - compute the MSE loss by passing in the model outputs and the actual answers (quality)\n",
    "- **loss.backward()** - perform backward propagation, where we compute and apply gradient descent (derivative of loss)\n",
    "- **optimizer.step()** - applies the gradients (calculated during loss.backward()) to update the model’s weights and biases"
   ]
  },
  {
   "cell_type": "code",
   "id": "b8c4d01bb5974a52",
   "metadata": {
    "ExecuteTime": {
     "end_time": "2025-08-07T20:13:32.485952Z",
     "start_time": "2025-08-07T20:13:32.413659Z"
    }
   },
   "source": [
    "train_losses, val_losses = [], []\n",
    "epochs = 100\n",
    "for epoch in range(epochs):\n",
    "    model.train()\n",
    "    optimizer.zero_grad()\n",
    "\n",
    "    output = model(X_train)\n",
    "    loss = loss_function(output, y_train)\n",
    "    loss.backward()\n",
    "    optimizer.step()\n",
    "\n",
    "    model.eval()\n",
    "    with torch.no_grad():\n",
    "        val_output = model(X_val)\n",
    "        val_loss = loss_function(val_output, y_val)\n",
    "\n",
    "    train_losses.append(loss.item())\n",
    "    val_losses.append(val_loss.item())\n",
    "\n",
    "    if epoch % 10 == 0:\n",
    "        print(f\"Epoch {epoch} | Train Loss: {loss.item():.4f} | Val Loss: {val_loss.item():.4f}\")"
   ],
   "outputs": [
    {
     "name": "stdout",
     "output_type": "stream",
     "text": [
      "Epoch 0 | Train Loss: 0.6897 | Val Loss: 0.5607\n",
      "Epoch 10 | Train Loss: 0.0817 | Val Loss: 0.0501\n",
      "Epoch 20 | Train Loss: 0.0460 | Val Loss: 0.0745\n",
      "Epoch 30 | Train Loss: 0.0264 | Val Loss: 0.0993\n",
      "Epoch 40 | Train Loss: 0.0148 | Val Loss: 0.1105\n",
      "Epoch 50 | Train Loss: 0.0069 | Val Loss: 0.1199\n",
      "Epoch 60 | Train Loss: 0.0031 | Val Loss: 0.1336\n",
      "Epoch 70 | Train Loss: 0.0014 | Val Loss: 0.1468\n",
      "Epoch 80 | Train Loss: 0.0008 | Val Loss: 0.1568\n",
      "Epoch 90 | Train Loss: 0.0005 | Val Loss: 0.1654\n"
     ]
    }
   ],
   "execution_count": 8
  },
  {
   "cell_type": "markdown",
   "id": "ca901d53fb19b19a",
   "metadata": {},
   "source": [
    "## 4. Evaluation\n",
    "Below we will\n",
    " - plot the loss to see how the model is minimizing loss and learning\n",
    " -\n"
   ]
  },
  {
   "cell_type": "code",
   "id": "9344a908632d19e",
   "metadata": {
    "ExecuteTime": {
     "end_time": "2025-08-07T20:13:32.583619Z",
     "start_time": "2025-08-07T20:13:32.501577Z"
    }
   },
   "source": [
    "plt.figure(figsize=(10, 5))\n",
    "plt.plot(train_losses, label='Train Loss')\n",
    "plt.plot(val_losses, label='Validation Loss')\n",
    "plt.xlabel(\"Epoch\")\n",
    "plt.ylabel(\"Loss\")\n",
    "plt.title(\"Model Learning Curve\")\n",
    "plt.legend()\n",
    "plt.grid(True)\n",
    "plt.show()"
   ],
   "outputs": [
    {
     "data": {
      "text/plain": [
       "<Figure size 1000x500 with 1 Axes>"
      ],
      "image/png": "[encoded data removed]"
     },
     "metadata": {},
     "output_type": "display_data"
    }
   ],
   "execution_count": 9
  },
  {
   "cell_type": "markdown",
   "id": "ba309e9e62c8fa5c",
   "metadata": {},
   "source": [
    "As you can see here, we are starting to get some overfitting. Our validation loss is going up while our train loss is staying the same. The model is learning the training data to well and not performing properly on the validation data which is unseen.\n",
    "\n",
    "There are a few techniques we can use to fix this:\n",
    "- add ***dropouts*** between the layers - this prevents the model from relying too heavily on any one node\n",
    "- add ***weight decay (L2 Regularization)*** - this penalizes overly large weights that may be overfitting noise\n",
    "- add ***early stopping*** - which will detect when the model starts overfitting and stop training to preserve the model\n",
    "- add ***more data*** - will introduce more variety and the model may be able to pickup on the patterns better\n"
   ]
  },
  {
   "cell_type": "markdown",
   "id": "4dd9592b617a9cdf",
   "metadata": {},
   "source": [
    "Lets implement early stopping, which will stop training at the best epoch. This is because our dataset is small and doesn't have time to train/pickup the trends. Lets also implement dropouts between the layers as well as weight decay alongside learning rate. The only thing we will not tune is the data itself.\n",
    "\n",
    "Then we will re-train the model and hope it fixes our overfitting."
   ]
  },
  {
   "cell_type": "code",
   "id": "d09f83309344f7d4",
   "metadata": {
    "ExecuteTime": {
     "end_time": "2025-08-07T20:13:32.622341Z",
     "start_time": "2025-08-07T20:13:32.601138Z"
    }
   },
   "source": [
    "tuned_model = nn.Sequential(\n",
    "    nn.Linear(30, 32),      # Input layer → Hidden layer 1 (64 neurons created from the 11 input features)\n",
    "    nn.ReLU(),\n",
    "    nn.Dropout(0.3),\n",
    "    nn.Linear(32, 16),      # Hidden layer 1 → Hidden layer 2 (64 inputs from the previous layers outputs, outputs 32 neurons)\n",
    "    nn.ReLU(),\n",
    "    nn.Dropout(0.3),\n",
    "    nn.Linear(16, 1)        # Hidden layer 2 → Output (1 value: wine quality)\n",
    ")\n",
    "\n",
    "loss_function = nn.BCEWithLogitsLoss()\n",
    "optimizer = optim.Adam(tuned_model.parameters(), lr=0.01, weight_decay=1e-4)\n",
    "\n",
    "train_losses_tuned, val_losses_tuned = [], []\n",
    "epochs = 100\n",
    "patience = 10\n",
    "best_val_loss = float('inf')\n",
    "counter = 0\n",
    "best_model_state = None\n",
    "\n",
    "for epoch in range(epochs):\n",
    "    tuned_model.train()\n",
    "    optimizer.zero_grad()\n",
    "\n",
    "    output = tuned_model(X_train)\n",
    "    loss = loss_function(output, y_train)\n",
    "    loss.backward()\n",
    "    optimizer.step()\n",
    "\n",
    "    tuned_model.eval()\n",
    "    with torch.no_grad():\n",
    "        val_output = tuned_model(X_val)\n",
    "        val_loss = loss_function(val_output, y_val)\n",
    "\n",
    "    train_losses_tuned.append(loss.item())\n",
    "    val_losses_tuned.append(val_loss.item())\n",
    "\n",
    "    if epoch % 10 == 0:\n",
    "        print(f\"Epoch {epoch} | Train Loss: {loss.item():.4f} | Val Loss: {val_loss.item():.4f}\")\n",
    "\n",
    "    if val_loss.item() < best_val_loss:\n",
    "        best_val_loss = val_loss.item()\n",
    "        counter = 0\n",
    "        best_model_state = tuned_model.state_dict()\n",
    "    else:\n",
    "        counter += 1\n",
    "        if counter >= patience:\n",
    "            print(f\"Early stopping triggered at epoch {epoch}\")\n",
    "            break\n",
    "\n",
    "if best_model_state is not None:\n",
    "    tuned_model.load_state_dict(best_model_state)\n",
    "    print(\"Best model weights restored.\")"
   ],
   "outputs": [
    {
     "name": "stdout",
     "output_type": "stream",
     "text": [
      "Epoch 0 | Train Loss: 0.6643 | Val Loss: 0.6208\n",
      "Epoch 10 | Train Loss: 0.1689 | Val Loss: 0.1021\n",
      "Epoch 20 | Train Loss: 0.0835 | Val Loss: 0.0542\n",
      "Early stopping triggered at epoch 28\n",
      "Best model weights restored.\n"
     ]
    }
   ],
   "execution_count": 10
  },
  {
   "cell_type": "markdown",
   "id": "f67ee538d7b55a30",
   "metadata": {},
   "source": [
    "Then re plot the validation and training loss"
   ]
  },
  {
   "cell_type": "code",
   "id": "288621f4b26fd5dc",
   "metadata": {
    "ExecuteTime": {
     "end_time": "2025-08-07T20:13:32.695691Z",
     "start_time": "2025-08-07T20:13:32.647040Z"
    }
   },
   "source": [
    "plt.figure(figsize=(10, 5))\n",
    "plt.plot(train_losses_tuned, label='Train Loss')\n",
    "plt.plot(val_losses_tuned, label='Validation Loss')\n",
    "plt.xlabel(\"Epoch\")\n",
    "plt.ylabel(\"Loss\")\n",
    "plt.title(\"Model Learning Curve\")\n",
    "plt.legend()\n",
    "plt.grid(True)\n",
    "plt.show()"
   ],
   "outputs": [
    {
     "data": {
      "text/plain": [
       "<Figure size 1000x500 with 1 Axes>"
      ],
      "image/png": "[encoded data removed]"
     },
     "metadata": {},
     "output_type": "display_data"
    }
   ],
   "execution_count": 11
  },
  {
   "cell_type": "markdown",
   "id": "f3604ac89c4e33ba",
   "metadata": {},
   "source": [
    "As you can see after tuning the model with adding a dropout, adding weight decay, and adding early stopping and simplifying the neural network layers, we have a much better performing model. Time to make some predictions!"
   ]
  },
  {
   "cell_type": "code",
   "id": "d383cc60d1432449",
   "metadata": {
    "ExecuteTime": {
     "end_time": "2025-08-07T20:13:32.755834Z",
     "start_time": "2025-08-07T20:13:32.750885Z"
    }
   },
   "source": [
    "model.eval()\n",
    "with torch.no_grad():\n",
    "    preds = torch.sigmoid(model(X_val)) >= 0.5\n",
    "    acc = accuracy_score(y_val, preds)\n",
    "    print(f\"Validation Accuracy: {acc * 100:.2f}%\")"
   ],
   "outputs": [
    {
     "name": "stdout",
     "output_type": "stream",
     "text": [
      "Validation Accuracy: 98.25%\n"
     ]
    }
   ],
   "execution_count": 12
  },
  {
   "cell_type": "markdown",
   "id": "92483612a0f49d9a",
   "metadata": {},
   "source": "Finally, lets make some predictions on dataset samples"
  },
  {
   "cell_type": "code",
   "id": "b0b9a0d2317650fa",
   "metadata": {
    "ExecuteTime": {
     "end_time": "2025-08-07T20:13:32.845735Z",
     "start_time": "2025-08-07T20:13:32.839873Z"
    }
   },
   "source": [
    "model.eval()\n",
    "\n",
    "with torch.no_grad():\n",
    "    logits = model(X_val[:5])\n",
    "    probs = torch.sigmoid(logits)\n",
    "    preds = (probs >= 0.5).float()\n",
    "    actuals = y_val[:5]\n",
    "\n",
    "for i in range(5):\n",
    "    print(f\"Sample {i+1}:\")\n",
    "    print(f\"  Actual Label        → {int(actuals[i].item())}\")\n",
    "    print(f\"  Predicted Probability → {probs[i].item():.4f}\")\n",
    "    print(f\"  Predicted Class     → {int(preds[i].item())} ({'Malignant' if preds[i] == 1 else 'Benign'})\")\n",
    "    print()"
   ],
   "outputs": [
    {
     "name": "stdout",
     "output_type": "stream",
     "text": [
      "Sample 1:\n",
      "  Actual Label        → 1\n",
      "  Predicted Probability → 0.9981\n",
      "  Predicted Class     → 1 (Malignant)\n",
      "\n",
      "Sample 2:\n",
      "  Actual Label        → 0\n",
      "  Predicted Probability → 0.0000\n",
      "  Predicted Class     → 0 (Benign)\n",
      "\n",
      "Sample 3:\n",
      "  Actual Label        → 0\n",
      "  Predicted Probability → 0.0000\n",
      "  Predicted Class     → 0 (Benign)\n",
      "\n",
      "Sample 4:\n",
      "  Actual Label        → 1\n",
      "  Predicted Probability → 1.0000\n",
      "  Predicted Class     → 1 (Malignant)\n",
      "\n",
      "Sample 5:\n",
      "  Actual Label        → 1\n",
      "  Predicted Probability → 1.0000\n",
      "  Predicted Class     → 1 (Malignant)\n",
      "\n"
     ]
    }
   ],
   "execution_count": 13
  }
 ],
 "metadata": {
  "kernelspec": {
   "display_name": "Python 3 (ipykernel)",
   "language": "python",
   "name": "python3"
  },
  "language_info": {
   "codemirror_mode": {
    "name": "ipython",
    "version": 3
   },
   "file_extension": ".py",
   "mimetype": "text/x-python",
   "name": "python",
   "nbconvert_exporter": "python",
   "pygments_lexer": "ipython3",
   "version": "3.13.0"
  }
 },
 "nbformat": 4,
 "nbformat_minor": 5
}
